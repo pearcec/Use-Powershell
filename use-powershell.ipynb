{
  "cells": [
    {
      "cell_type": "markdown",
      "metadata": {},
      "source": [
        "# Powershell Commands instead of Bash\n",
        "\n",
        "And other interesting knowledge and command line tools"
      ]
    },
    {
      "cell_type": "markdown",
      "metadata": {},
      "source": [
        "## curl or wget"
      ]
    },
    {
      "cell_type": "code",
      "execution_count": null,
      "metadata": {
        "dotnet_interactive": {
          "language": "pwsh"
        }
      },
      "outputs": [
        {
          "data": {
            "text/plain": []
          },
          "output_type": "unknown"
        }
      ],
      "source": [
        "Invoke-WebRequest https://stackoverflow.com/ -OutFile index.html"
      ]
    },
    {
      "cell_type": "markdown",
      "metadata": {},
      "source": [
        "## echo 'something' > file"
      ]
    },
    {
      "cell_type": "code",
      "execution_count": null,
      "metadata": {
        "dotnet_interactive": {
          "language": "pwsh"
        }
      },
      "outputs": [
        {
          "data": {
            "text/plain": [
              "something\r\n"
            ]
          },
          "output_type": "unknown"
        }
      ],
      "source": [
        "'something' | Out-File -Path file; Get-Content file"
      ]
    },
    {
      "cell_type": "markdown",
      "metadata": {},
      "source": [
        "## cat > file"
      ]
    },
    {
      "cell_type": "code",
      "execution_count": null,
      "metadata": {
        "dotnet_interactive": {
          "language": "pwsh"
        }
      },
      "outputs": [
        {
          "data": {
            "text/plain": [
              "Line 1\r\n"
            ]
          },
          "output_type": "unknown"
        },
        {
          "data": {
            "text/plain": [
              "Line 2\r\n"
            ]
          },
          "output_type": "unknown"
        }
      ],
      "source": [
        "Write-Output @\"\n",
        "Line 1\n",
        "Line 2\n",
        "\"@ | Out-File -Path file"
      ]
    },
    {
      "cell_type": "markdown",
      "metadata": {},
      "source": [
        "## cat"
      ]
    },
    {
      "cell_type": "code",
      "execution_count": null,
      "metadata": {
        "dotnet_interactive": {
          "language": "pwsh"
        }
      },
      "outputs": [
        {
          "data": {
            "text/plain": [
              "Line 1\r\n"
            ]
          },
          "output_type": "unknown"
        },
        {
          "data": {
            "text/plain": [
              "Line 2\r\n"
            ]
          },
          "output_type": "unknown"
        }
      ],
      "source": [
        "Get-Content -Path file"
      ]
    },
    {
      "cell_type": "markdown",
      "metadata": {},
      "source": [
        "## echo 'appending' >> file"
      ]
    },
    {
      "cell_type": "code",
      "execution_count": null,
      "metadata": {
        "dotnet_interactive": {
          "language": "pwsh"
        }
      },
      "outputs": [],
      "source": [
        "'appending' | Out-File -Path file -Append"
      ]
    },
    {
      "cell_type": "markdown",
      "metadata": {},
      "source": [
        "## find /etc -name hosts"
      ]
    },
    {
      "cell_type": "code",
      "execution_count": null,
      "metadata": {
        "dotnet_interactive": {
          "language": "pwsh"
        }
      },
      "outputs": [
        {
          "data": {
            "text/plain": [
              "\r\n"
            ]
          },
          "output_type": "unknown"
        },
        {
          "data": {
            "text/plain": [
              "    Directory: C:\\Windows\\system32\\drivers\\etc\r\n"
            ]
          },
          "output_type": "unknown"
        },
        {
          "data": {
            "text/plain": [
              "\r\n"
            ]
          },
          "output_type": "unknown"
        },
        {
          "data": {
            "text/plain": [
              "Mode                 LastWriteTime         Length Name\r\n"
            ]
          },
          "output_type": "unknown"
        },
        {
          "data": {
            "text/plain": [
              "----                 -------------         ------ ----\r\n"
            ]
          },
          "output_type": "unknown"
        },
        {
          "data": {
            "text/plain": [
              "-a---           4/26/2021  4:50 PM           4176 hosts\r\n"
            ]
          },
          "output_type": "unknown"
        },
        {
          "data": {
            "text/plain": [
              "\r\n"
            ]
          },
          "output_type": "unknown"
        }
      ],
      "source": [
        "Get-Childitem -Path C:\\Windows\\system32\\drivers -Include hosts -Recurse -ErrorAction SilentlyContinue"
      ]
    },
    {
      "cell_type": "markdown",
      "metadata": {},
      "source": [
        "## grep -v"
      ]
    },
    {
      "cell_type": "code",
      "execution_count": null,
      "metadata": {
        "dotnet_interactive": {
          "language": "pwsh"
        }
      },
      "outputs": [
        {
          "data": {
            "text/plain": [
              "\r\n"
            ]
          },
          "output_type": "unknown"
        },
        {
          "data": {
            "text/plain": [
              "\r\n"
            ]
          },
          "output_type": "unknown"
        },
        {
          "data": {
            "text/plain": [
              "\r\n"
            ]
          },
          "output_type": "unknown"
        },
        {
          "data": {
            "text/plain": [
              "👋\r\n"
            ]
          },
          "output_type": "unknown"
        },
        {
          "data": {
            "text/plain": [
              "\r\n"
            ]
          },
          "output_type": "unknown"
        },
        {
          "data": {
            "text/plain": [
              "I am finally working in an [environment](http://www.stackoverflow.com) that uses powershell. Like \r\n"
            ]
          },
          "output_type": "unknown"
        },
        {
          "data": {
            "text/plain": [
              "most I knew of it and had my share of biases. But it wasn't until I started using it that I \r\n"
            ]
          },
          "output_type": "unknown"
        },
        {
          "data": {
            "text/plain": [
              "realized how great PowerShell is and how much I love it.\r\n"
            ]
          },
          "output_type": "unknown"
        },
        {
          "data": {
            "text/plain": [
              "\r\n"
            ]
          },
          "output_type": "unknown"
        },
        {
          "data": {
            "text/plain": [
              "I spent most of my career in Unix and Linux which meant I learned a LOT of bash.  Jeffrey Snover \r\n"
            ]
          },
          "output_type": "unknown"
        },
        {
          "data": {
            "text/plain": [
              "does an amazing job of [summarizing the flaws](https://devblogs.microsoft.com/powershell/monad-mani\r\n"
            ]
          },
          "output_type": "unknown"
        },
        {
          "data": {
            "text/plain": [
              "festo-the-origin-of-windows-powershell/) with the UNIX environment despite using it as a model for \r\n"
            ]
          },
          "output_type": "unknown"
        },
        {
          "data": {
            "text/plain": [
              "PowerShell.  So what I am saying is if you like the UNIX Philosophy, guess what?  Powershell is \r\n"
            ]
          },
          "output_type": "unknown"
        },
        {
          "data": {
            "text/plain": [
              "based on it.  \r\n"
            ]
          },
          "output_type": "unknown"
        },
        {
          "data": {
            "text/plain": [
              "\r\n"
            ]
          },
          "output_type": "unknown"
        },
        {
          "data": {
            "text/plain": [
              "I invite you to open yourself up to the possibility that Powershell is an improvement.  \r\n"
            ]
          },
          "output_type": "unknown"
        },
        {
          "data": {
            "text/plain": [
              "$(get-NetIPaddress | Where-Object -Property InterfaceAlias -EQ 'Local Area Connection' | \r\n"
            ]
          },
          "output_type": "unknown"
        },
        {
          "data": {
            "text/plain": [
              "Where-Object -Property AddressFamily -Eq 'IPv4').IPAddress\r\n"
            ]
          },
          "output_type": "unknown"
        },
        {
          "data": {
            "text/plain": [
              "-- Needs redacted\r\n"
            ]
          },
          "output_type": "unknown"
        },
        {
          "data": {
            "text/plain": [
              "\r\n"
            ]
          },
          "output_type": "unknown"
        },
        {
          "data": {
            "text/plain": [
              "While I have long abandoned trying to use Linux as a desktop, I still found myself customizing the \r\n"
            ]
          },
          "output_type": "unknown"
        },
        {
          "data": {
            "text/plain": [
              "experience and the tools to feel like bash.  This repository is a personal guide for me to stop \r\n"
            ]
          },
          "output_type": "unknown"
        },
        {
          "data": {
            "text/plain": [
              "doing bash things and start doing powershell things.\r\n"
            ]
          },
          "output_type": "unknown"
        },
        {
          "data": {
            "text/plain": [
              "\r\n"
            ]
          },
          "output_type": "unknown"
        },
        {
          "data": {
            "text/plain": [
              "This use-powershell uses [.NET Interactive](https://github.com/dotnet/interactive) for Jupyter \r\n"
            ]
          },
          "output_type": "unknown"
        },
        {
          "data": {
            "text/plain": [
              "style notebooks.\r\n"
            ]
          },
          "output_type": "unknown"
        },
        {
          "data": {
            "text/plain": [
              "\r\n"
            ]
          },
          "output_type": "unknown"
        },
        {
          "data": {
            "text/plain": [
              "\r\n"
            ]
          },
          "output_type": "unknown"
        },
        {
          "data": {
            "text/plain": [
              "* Link with https://docs.microsoft.com/en-us/azure/notebooks/quickstart-export-jupyter-notebook-pro\r\n"
            ]
          },
          "output_type": "unknown"
        },
        {
          "data": {
            "text/plain": [
              "ject#use-notebooks-in-github-codespaces\r\n"
            ]
          },
          "output_type": "unknown"
        },
        {
          "data": {
            "text/plain": [
              "\r\n"
            ]
          },
          "output_type": "unknown"
        }
      ],
      "source": [
        "Get-Content README.md | Select-String -NotMatch -Pattern \"^#\""
      ]
    },
    {
      "cell_type": "markdown",
      "metadata": {},
      "source": [
        "## head"
      ]
    },
    {
      "cell_type": "code",
      "execution_count": null,
      "metadata": {
        "dotnet_interactive": {
          "language": "pwsh"
        }
      },
      "outputs": [
        {
          "name": "stdout",
          "output_type": "stream",
          "text": [
            "# Use-Powershell\r\n",
            "\r\n",
            "## Overview\r\n"
          ]
        }
      ],
      "source": [
        "Get-Content README.md | Select -First 3"
      ]
    },
    {
      "cell_type": "markdown",
      "metadata": {},
      "source": [
        "## tail"
      ]
    },
    {
      "cell_type": "code",
      "execution_count": null,
      "metadata": {
        "dotnet_interactive": {
          "language": "pwsh"
        }
      },
      "outputs": [
        {
          "data": {
            "text/plain": [
              "## TODO\r\n"
            ]
          },
          "output_type": "unknown"
        },
        {
          "data": {
            "text/plain": [
              "\r\n"
            ]
          },
          "output_type": "unknown"
        },
        {
          "data": {
            "text/plain": [
              "* Link with https://docs.microsoft.com/en-us/azure/notebooks/quickstart-export-jupyter-notebook-project#use-notebooks-in-github-codespaces\r\n"
            ]
          },
          "output_type": "unknown"
        }
      ],
      "source": [
        "Get-Content README.md -Tail 3  # Add -Wait (tail -f style) follow"
      ]
    },
    {
      "cell_type": "markdown",
      "metadata": {},
      "source": [
        "## time"
      ]
    },
    {
      "cell_type": "code",
      "execution_count": null,
      "metadata": {
        "dotnet_interactive": {
          "language": "pwsh"
        }
      },
      "outputs": [
        {
          "data": {
            "text/plain": [
              "\r\n"
            ]
          },
          "output_type": "unknown"
        },
        {
          "data": {
            "text/plain": [
              "Days              : 0\r\n"
            ]
          },
          "output_type": "unknown"
        },
        {
          "data": {
            "text/plain": [
              "Hours             : 0\r\n"
            ]
          },
          "output_type": "unknown"
        },
        {
          "data": {
            "text/plain": [
              "Minutes           : 0\r\n"
            ]
          },
          "output_type": "unknown"
        },
        {
          "data": {
            "text/plain": [
              "Seconds           : 1\r\n"
            ]
          },
          "output_type": "unknown"
        },
        {
          "data": {
            "text/plain": [
              "Milliseconds      : 27\r\n"
            ]
          },
          "output_type": "unknown"
        },
        {
          "data": {
            "text/plain": [
              "Ticks             : 10275079\r\n"
            ]
          },
          "output_type": "unknown"
        },
        {
          "data": {
            "text/plain": [
              "TotalDays         : 1.18924525462963E-05\r\n"
            ]
          },
          "output_type": "unknown"
        },
        {
          "data": {
            "text/plain": [
              "TotalHours        : 0.000285418861111111\r\n"
            ]
          },
          "output_type": "unknown"
        },
        {
          "data": {
            "text/plain": [
              "TotalMinutes      : 0.0171251316666667\r\n"
            ]
          },
          "output_type": "unknown"
        },
        {
          "data": {
            "text/plain": [
              "TotalSeconds      : 1.0275079\r\n"
            ]
          },
          "output_type": "unknown"
        },
        {
          "data": {
            "text/plain": [
              "TotalMilliseconds : 1027.5079\r\n"
            ]
          },
          "output_type": "unknown"
        },
        {
          "data": {
            "text/plain": [
              "\r\n"
            ]
          },
          "output_type": "unknown"
        },
        {
          "data": {
            "text/plain": [
              "\r\n"
            ]
          },
          "output_type": "unknown"
        }
      ],
      "source": [
        "Measure-Command { Start-Sleep 1 }"
      ]
    },
    {
      "cell_type": "markdown",
      "metadata": {},
      "source": [
        "watch"
      ]
    },
    {
      "cell_type": "code",
      "execution_count": null,
      "metadata": {
        "dotnet_interactive": {
          "language": "pwsh"
        }
      },
      "outputs": [],
      "source": [
        "# requires ??? # Watch-Command {}"
      ]
    },
    {
      "cell_type": "markdown",
      "metadata": {},
      "source": [
        "## wc"
      ]
    },
    {
      "cell_type": "code",
      "execution_count": null,
      "metadata": {
        "dotnet_interactive": {
          "language": "pwsh"
        }
      },
      "outputs": [
        {
          "data": {
            "text/plain": [
              "\r\n"
            ]
          },
          "output_type": "unknown"
        },
        {
          "data": {
            "text/plain": [
              "Lines Words Characters Property\r\n"
            ]
          },
          "output_type": "unknown"
        },
        {
          "data": {
            "text/plain": [
              "----- ----- ---------- --------\r\n"
            ]
          },
          "output_type": "unknown"
        },
        {
          "data": {
            "text/plain": [
              "   13   201       1443 \r\n"
            ]
          },
          "output_type": "unknown"
        },
        {
          "data": {
            "text/plain": [
              "\r\n"
            ]
          },
          "output_type": "unknown"
        }
      ],
      "source": [
        "Get-Content -Path README.md | Measure-Object -Line -Word -Character"
      ]
    },
    {
      "cell_type": "markdown",
      "metadata": {},
      "source": [
        "## which"
      ]
    },
    {
      "cell_type": "code",
      "execution_count": null,
      "metadata": {
        "dotnet_interactive": {
          "language": "pwsh"
        }
      },
      "outputs": [
        {
          "data": {
            "text/plain": [
              "\r\n"
            ]
          },
          "output_type": "unknown"
        },
        {
          "data": {
            "text/plain": [
              "CommandType     Name                                               Version    Source\r\n"
            ]
          },
          "output_type": "unknown"
        },
        {
          "data": {
            "text/plain": [
              "-----------     ----                                               -------    ------\r\n"
            ]
          },
          "output_type": "unknown"
        },
        {
          "data": {
            "text/plain": [
              "Alias           terraform -> Invoke-Terraform                      0.5.1      Invoke-Terraform\r\n"
            ]
          },
          "output_type": "unknown"
        },
        {
          "data": {
            "text/plain": [
              "\r\n"
            ]
          },
          "output_type": "unknown"
        }
      ],
      "source": [
        "Get-Command terraform"
      ]
    },
    {
      "cell_type": "code",
      "execution_count": null,
      "metadata": {
        "dotnet_interactive": {
          "language": "pwsh"
        }
      },
      "outputs": [
        {
          "data": {
            "text/plain": [
              "\r\n"
            ]
          },
          "output_type": "unknown"
        },
        {
          "data": {
            "text/plain": [
              "CommandType     Name                                               Version    Source\r\n"
            ]
          },
          "output_type": "unknown"
        },
        {
          "data": {
            "text/plain": [
              "-----------     ----                                               -------    ------\r\n"
            ]
          },
          "output_type": "unknown"
        },
        {
          "data": {
            "text/plain": [
              "Application     choco.exe                                          0.10.5.0   C:\\ProgramData\\choco…\r\n"
            ]
          },
          "output_type": "unknown"
        },
        {
          "data": {
            "text/plain": [
              "\r\n"
            ]
          },
          "output_type": "unknown"
        }
      ],
      "source": [
        "Get-Command choco"
      ]
    },
    {
      "cell_type": "markdown",
      "metadata": {},
      "source": [
        "# Powershell Commands found useful"
      ]
    },
    {
      "cell_type": "markdown",
      "metadata": {},
      "source": [
        "## Bash tab completion"
      ]
    },
    {
      "cell_type": "code",
      "execution_count": null,
      "metadata": {
        "dotnet_interactive": {
          "language": "pwsh"
        }
      },
      "outputs": [],
      "source": [
        "Set-PSReadLineKeyHandler -Key Tab -Function Complete"
      ]
    },
    {
      "cell_type": "markdown",
      "metadata": {},
      "source": [
        "## Nouns and Verbs\n",
        "\n",
        "In case you haven't powershell has a set of [Approved Verbs](https://docs.microsoft.com/en-us/powershell/scripting/developer/cmdlet/approved-verbs-for-windows-powershell-commands) for naming cmdlets.  This cmdlet gives you a list of the approved ones."
      ]
    },
    {
      "cell_type": "code",
      "execution_count": null,
      "metadata": {
        "dotnet_interactive": {
          "language": "pwsh"
        }
      },
      "outputs": [
        {
          "data": {
            "text/plain": [
              "\r\n"
            ]
          },
          "output_type": "unknown"
        },
        {
          "data": {
            "text/plain": [
              "Verb        AliasPrefix Group          Description\r\n"
            ]
          },
          "output_type": "unknown"
        },
        {
          "data": {
            "text/plain": [
              "----        ----------- -----          -----------\r\n"
            ]
          },
          "output_type": "unknown"
        },
        {
          "data": {
            "text/plain": [
              "Add         a           Common         Adds a resource to a container, or attaches an item to anot…\r\n"
            ]
          },
          "output_type": "unknown"
        },
        {
          "data": {
            "text/plain": [
              "Clear       cl          Common         Removes all the resources from a container but does not del…\r\n"
            ]
          },
          "output_type": "unknown"
        },
        {
          "data": {
            "text/plain": [
              "Close       cs          Common         Changes the state of a resource to make it inaccessible, un…\r\n"
            ]
          },
          "output_type": "unknown"
        },
        {
          "data": {
            "text/plain": [
              "Copy        cp          Common         Copies a resource to another name or to another container\r\n"
            ]
          },
          "output_type": "unknown"
        },
        {
          "data": {
            "text/plain": [
              "Enter       et          Common         Specifies an action that allows the user to move into a res…\r\n"
            ]
          },
          "output_type": "unknown"
        },
        {
          "data": {
            "text/plain": [
              "Exit        ex          Common         Sets the current environment or context to the most recentl…\r\n"
            ]
          },
          "output_type": "unknown"
        },
        {
          "data": {
            "text/plain": [
              "Find        fd          Common         Looks for an object in a container that is unknown, implied…\r\n"
            ]
          },
          "output_type": "unknown"
        },
        {
          "data": {
            "text/plain": [
              "Format      f           Common         Arranges objects in a specified form or layout\r\n"
            ]
          },
          "output_type": "unknown"
        },
        {
          "data": {
            "text/plain": [
              "Get         g           Common         Specifies an action that retrieves a resource\r\n"
            ]
          },
          "output_type": "unknown"
        },
        {
          "data": {
            "text/plain": [
              "Hide        h           Common         Makes a resource undetectable\r\n"
            ]
          },
          "output_type": "unknown"
        },
        {
          "data": {
            "text/plain": [
              "Join        j           Common         Combines resources into one resource\r\n"
            ]
          },
          "output_type": "unknown"
        },
        {
          "data": {
            "text/plain": [
              "Lock        lk          Common         Secures a resource\r\n"
            ]
          },
          "output_type": "unknown"
        },
        {
          "data": {
            "text/plain": [
              "Move        m           Common         Moves a resource from one location to another\r\n"
            ]
          },
          "output_type": "unknown"
        },
        {
          "data": {
            "text/plain": [
              "New         n           Common         Creates a resource\r\n"
            ]
          },
          "output_type": "unknown"
        },
        {
          "data": {
            "text/plain": [
              "Open        op          Common         Changes the state of a resource to make it accessible, avai…\r\n"
            ]
          },
          "output_type": "unknown"
        },
        {
          "data": {
            "text/plain": [
              "Optimize    om          Common         Increases the effectiveness of a resource\r\n"
            ]
          },
          "output_type": "unknown"
        },
        {
          "data": {
            "text/plain": [
              "Push        pu          Common         Adds an item to the top of a stack\r\n"
            ]
          },
          "output_type": "unknown"
        },
        {
          "data": {
            "text/plain": [
              "Pop         pop         Common         Removes an item from the top of a stack\r\n"
            ]
          },
          "output_type": "unknown"
        },
        {
          "data": {
            "text/plain": [
              "Redo        re          Common         Resets a resource to the state that was undone\r\n"
            ]
          },
          "output_type": "unknown"
        },
        {
          "data": {
            "text/plain": [
              "Remove      r           Common         Deletes a resource from a container\r\n"
            ]
          },
          "output_type": "unknown"
        },
        {
          "data": {
            "text/plain": [
              "Rename      rn          Common         Changes the name of a resource\r\n"
            ]
          },
          "output_type": "unknown"
        },
        {
          "data": {
            "text/plain": [
              "Reset       rs          Common         Sets a resource back to its original state\r\n"
            ]
          },
          "output_type": "unknown"
        },
        {
          "data": {
            "text/plain": [
              "Resize      rz          Common         Changes the size of a resource\r\n"
            ]
          },
          "output_type": "unknown"
        },
        {
          "data": {
            "text/plain": [
              "Search      sr          Common         Creates a reference to a resource in a container\r\n"
            ]
          },
          "output_type": "unknown"
        },
        {
          "data": {
            "text/plain": [
              "Select      sc          Common         Locates a resource in a container\r\n"
            ]
          },
          "output_type": "unknown"
        },
        {
          "data": {
            "text/plain": [
              "Set         s           Common         Replaces data on an existing resource or creates a resource…\r\n"
            ]
          },
          "output_type": "unknown"
        },
        {
          "data": {
            "text/plain": [
              "Show        sh          Common         Makes a resource visible to the user\r\n"
            ]
          },
          "output_type": "unknown"
        },
        {
          "data": {
            "text/plain": [
              "Skip        sk          Common         Bypasses one or more resources or points in a sequence\r\n"
            ]
          },
          "output_type": "unknown"
        },
        {
          "data": {
            "text/plain": [
              "Split       sl          Common         Separates parts of a resource\r\n"
            ]
          },
          "output_type": "unknown"
        },
        {
          "data": {
            "text/plain": [
              "Step        st          Common         Moves to the next point or resource in a sequence\r\n"
            ]
          },
          "output_type": "unknown"
        },
        {
          "data": {
            "text/plain": [
              "Switch      sw          Common         Specifies an action that alternates between two resources, …\r\n"
            ]
          },
          "output_type": "unknown"
        },
        {
          "data": {
            "text/plain": [
              "Undo        un          Common         Sets a resource to its previous state\r\n"
            ]
          },
          "output_type": "unknown"
        },
        {
          "data": {
            "text/plain": [
              "Unlock      uk          Common         Releases a resource that was locked\r\n"
            ]
          },
          "output_type": "unknown"
        },
        {
          "data": {
            "text/plain": [
              "Watch       wc          Common         Continually inspects or monitors a resource for changes\r\n"
            ]
          },
          "output_type": "unknown"
        },
        {
          "data": {
            "text/plain": [
              "Connect     cc          Communications Creates a link between a source and a destination\r\n"
            ]
          },
          "output_type": "unknown"
        },
        {
          "data": {
            "text/plain": [
              "Disconnect  dc          Communications Breaks the link between a source and a destination\r\n"
            ]
          },
          "output_type": "unknown"
        },
        {
          "data": {
            "text/plain": [
              "Read        rd          Communications Acquires information from a source\r\n"
            ]
          },
          "output_type": "unknown"
        },
        {
          "data": {
            "text/plain": [
              "Receive     rc          Communications Accepts information sent from a source\r\n"
            ]
          },
          "output_type": "unknown"
        },
        {
          "data": {
            "text/plain": [
              "Send        sd          Communications Delivers information to a destination\r\n"
            ]
          },
          "output_type": "unknown"
        },
        {
          "data": {
            "text/plain": [
              "Write       wr          Communications Adds information to a target\r\n"
            ]
          },
          "output_type": "unknown"
        },
        {
          "data": {
            "text/plain": [
              "Backup      ba          Data           Stores data by replicating it\r\n"
            ]
          },
          "output_type": "unknown"
        },
        {
          "data": {
            "text/plain": [
              "Checkpoint  ch          Data           Creates a snapshot of the current state of the data or of i…\r\n"
            ]
          },
          "output_type": "unknown"
        },
        {
          "data": {
            "text/plain": [
              "Compare     cr          Data           Evaluates the data from one resource against the data from …\r\n"
            ]
          },
          "output_type": "unknown"
        },
        {
          "data": {
            "text/plain": [
              "Compress    cm          Data           Compacts the data of a resource\r\n"
            ]
          },
          "output_type": "unknown"
        },
        {
          "data": {
            "text/plain": [
              "Convert     cv          Data           Changes the data from one representation to another when th…\r\n"
            ]
          },
          "output_type": "unknown"
        },
        {
          "data": {
            "text/plain": [
              "ConvertFrom cf          Data           Converts one primary type of input (the cmdlet noun indicat…\r\n"
            ]
          },
          "output_type": "unknown"
        },
        {
          "data": {
            "text/plain": [
              "ConvertTo   ct          Data           Converts from one or more types of input to a primary outpu…\r\n"
            ]
          },
          "output_type": "unknown"
        },
        {
          "data": {
            "text/plain": [
              "Dismount    dm          Data           Detaches a named entity from a location\r\n"
            ]
          },
          "output_type": "unknown"
        },
        {
          "data": {
            "text/plain": [
              "Edit        ed          Data           Modifies existing data by adding or removing content\r\n"
            ]
          },
          "output_type": "unknown"
        },
        {
          "data": {
            "text/plain": [
              "Expand      en          Data           Restores the data of a resource that has been compressed to…\r\n"
            ]
          },
          "output_type": "unknown"
        },
        {
          "data": {
            "text/plain": [
              "Export      ep          Data           Encapsulates the primary input into a persistent data store…\r\n"
            ]
          },
          "output_type": "unknown"
        },
        {
          "data": {
            "text/plain": [
              "Group       gp          Data           Arranges or associates one or more resources\r\n"
            ]
          },
          "output_type": "unknown"
        },
        {
          "data": {
            "text/plain": [
              "Import      ip          Data           Creates a resource from data that is stored in a persistent…\r\n"
            ]
          },
          "output_type": "unknown"
        },
        {
          "data": {
            "text/plain": [
              "Initialize  in          Data           Prepares a resource for use, and sets it to a default state\r\n"
            ]
          },
          "output_type": "unknown"
        },
        {
          "data": {
            "text/plain": [
              "Limit       l           Data           Applies constraints to a resource\r\n"
            ]
          },
          "output_type": "unknown"
        },
        {
          "data": {
            "text/plain": [
              "Merge       mg          Data           Creates a single resource from multiple resources\r\n"
            ]
          },
          "output_type": "unknown"
        },
        {
          "data": {
            "text/plain": [
              "Mount       mt          Data           Attaches a named entity to a location\r\n"
            ]
          },
          "output_type": "unknown"
        },
        {
          "data": {
            "text/plain": [
              "Out         o           Data           Sends data out of the environment\r\n"
            ]
          },
          "output_type": "unknown"
        },
        {
          "data": {
            "text/plain": [
              "Publish     pb          Data           Makes a resource available to others\r\n"
            ]
          },
          "output_type": "unknown"
        },
        {
          "data": {
            "text/plain": [
              "Restore     rr          Data           Sets a resource to a predefined state, such as a state set …\r\n"
            ]
          },
          "output_type": "unknown"
        },
        {
          "data": {
            "text/plain": [
              "Save        sv          Data           Preserves data to avoid loss\r\n"
            ]
          },
          "output_type": "unknown"
        },
        {
          "data": {
            "text/plain": [
              "Sync        sy          Data           Assures that two or more resources are in the same state\r\n"
            ]
          },
          "output_type": "unknown"
        },
        {
          "data": {
            "text/plain": [
              "Unpublish   ub          Data           Makes a resource unavailable to others\r\n"
            ]
          },
          "output_type": "unknown"
        },
        {
          "data": {
            "text/plain": [
              "Update      ud          Data           Brings a resource up-to-date to maintain its state, accurac…\r\n"
            ]
          },
          "output_type": "unknown"
        },
        {
          "data": {
            "text/plain": [
              "Debug       db          Diagnostic     Examines a resource to diagnose operational problems\r\n"
            ]
          },
          "output_type": "unknown"
        },
        {
          "data": {
            "text/plain": [
              "Measure     ms          Diagnostic     Identifies resources that are consumed by a specified opera…\r\n"
            ]
          },
          "output_type": "unknown"
        },
        {
          "data": {
            "text/plain": [
              "Ping        pi          Diagnostic     Use the Test verb\r\n"
            ]
          },
          "output_type": "unknown"
        },
        {
          "data": {
            "text/plain": [
              "Repair      rp          Diagnostic     Restores a resource to a usable condition\r\n"
            ]
          },
          "output_type": "unknown"
        },
        {
          "data": {
            "text/plain": [
              "Resolve     rv          Diagnostic     Maps a shorthand representation of a resource to a more com…\r\n"
            ]
          },
          "output_type": "unknown"
        },
        {
          "data": {
            "text/plain": [
              "Test        t           Diagnostic     Verifies the operation or consistency of a resource\r\n"
            ]
          },
          "output_type": "unknown"
        },
        {
          "data": {
            "text/plain": [
              "Trace       tr          Diagnostic     Tracks the activities of a resource\r\n"
            ]
          },
          "output_type": "unknown"
        },
        {
          "data": {
            "text/plain": [
              "Approve     ap          Lifecycle      Confirms or agrees to the status of a resource or process\r\n"
            ]
          },
          "output_type": "unknown"
        },
        {
          "data": {
            "text/plain": [
              "Assert      as          Lifecycle      Affirms the state of a resource\r\n"
            ]
          },
          "output_type": "unknown"
        },
        {
          "data": {
            "text/plain": [
              "Build       bd          Lifecycle      Creates an artifact (usually a binary or document) out of s…\r\n"
            ]
          },
          "output_type": "unknown"
        },
        {
          "data": {
            "text/plain": [
              "Complete    cmp         Lifecycle      Concludes an operation\r\n"
            ]
          },
          "output_type": "unknown"
        },
        {
          "data": {
            "text/plain": [
              "Confirm     cn          Lifecycle      Acknowledges, verifies, or validates the state of a resourc…\r\n"
            ]
          },
          "output_type": "unknown"
        },
        {
          "data": {
            "text/plain": [
              "Deny        dn          Lifecycle      Refuses, objects, blocks, or opposes the state of a resourc…\r\n"
            ]
          },
          "output_type": "unknown"
        },
        {
          "data": {
            "text/plain": [
              "Deploy      dp          Lifecycle      Sends an application, website, or solution to a remote targ…\r\n"
            ]
          },
          "output_type": "unknown"
        },
        {
          "data": {
            "text/plain": [
              "Disable     d           Lifecycle      Configures a resource to an unavailable or inactive state\r\n"
            ]
          },
          "output_type": "unknown"
        },
        {
          "data": {
            "text/plain": [
              "Enable      e           Lifecycle      Configures a resource to an available or active state\r\n"
            ]
          },
          "output_type": "unknown"
        },
        {
          "data": {
            "text/plain": [
              "Install     is          Lifecycle      Places a resource in a location, and optionally initializes…\r\n"
            ]
          },
          "output_type": "unknown"
        },
        {
          "data": {
            "text/plain": [
              "Invoke      i           Lifecycle      Performs an action, such as running a command or a method\r\n"
            ]
          },
          "output_type": "unknown"
        },
        {
          "data": {
            "text/plain": [
              "Register    rg          Lifecycle      Creates an entry for a resource in a repository such as a d…\r\n"
            ]
          },
          "output_type": "unknown"
        },
        {
          "data": {
            "text/plain": [
              "Request     rq          Lifecycle      Asks for a resource or asks for permissions\r\n"
            ]
          },
          "output_type": "unknown"
        },
        {
          "data": {
            "text/plain": [
              "Restart     rt          Lifecycle      Stops an operation and then starts it again\r\n"
            ]
          },
          "output_type": "unknown"
        },
        {
          "data": {
            "text/plain": [
              "Resume      ru          Lifecycle      Starts an operation that has been suspended\r\n"
            ]
          },
          "output_type": "unknown"
        },
        {
          "data": {
            "text/plain": [
              "Start       sa          Lifecycle      Initiates an operation\r\n"
            ]
          },
          "output_type": "unknown"
        },
        {
          "data": {
            "text/plain": [
              "Stop        sp          Lifecycle      Discontinues an activity\r\n"
            ]
          },
          "output_type": "unknown"
        },
        {
          "data": {
            "text/plain": [
              "Submit      sb          Lifecycle      Presents a resource for approval\r\n"
            ]
          },
          "output_type": "unknown"
        },
        {
          "data": {
            "text/plain": [
              "Suspend     ss          Lifecycle      Pauses an activity\r\n"
            ]
          },
          "output_type": "unknown"
        },
        {
          "data": {
            "text/plain": [
              "Uninstall   us          Lifecycle      Removes a resource from an indicated location\r\n"
            ]
          },
          "output_type": "unknown"
        },
        {
          "data": {
            "text/plain": [
              "Unregister  ur          Lifecycle      Removes the entry for a resource from a repository\r\n"
            ]
          },
          "output_type": "unknown"
        },
        {
          "data": {
            "text/plain": [
              "Wait        w           Lifecycle      Pauses an operation until a specified event occurs\r\n"
            ]
          },
          "output_type": "unknown"
        },
        {
          "data": {
            "text/plain": [
              "Use         u           Other          Uses or includes a resource to do something\r\n"
            ]
          },
          "output_type": "unknown"
        },
        {
          "data": {
            "text/plain": [
              "Block       bl          Security       Restricts access to a resource\r\n"
            ]
          },
          "output_type": "unknown"
        },
        {
          "data": {
            "text/plain": [
              "Grant       gr          Security       Allows access to a resource\r\n"
            ]
          },
          "output_type": "unknown"
        },
        {
          "data": {
            "text/plain": [
              "Protect     pt          Security       Safeguards a resource from attack or loss\r\n"
            ]
          },
          "output_type": "unknown"
        },
        {
          "data": {
            "text/plain": [
              "Revoke      rk          Security       Specifies an action that does not allow access to a resource\r\n"
            ]
          },
          "output_type": "unknown"
        },
        {
          "data": {
            "text/plain": [
              "Unblock     ul          Security       Removes restrictions to a resource\r\n"
            ]
          },
          "output_type": "unknown"
        },
        {
          "data": {
            "text/plain": [
              "Unprotect   up          Security       Removes safeguards from a resource that were added to preve…\r\n"
            ]
          },
          "output_type": "unknown"
        },
        {
          "data": {
            "text/plain": [
              "\r\n"
            ]
          },
          "output_type": "unknown"
        }
      ],
      "source": [
        "Get-Verb"
      ]
    },
    {
      "cell_type": "markdown",
      "metadata": {},
      "source": [
        "## String Manipulation"
      ]
    },
    {
      "cell_type": "code",
      "execution_count": null,
      "metadata": {
        "dotnet_interactive": {
          "language": "pwsh"
        }
      },
      "outputs": [],
      "source": [
        "'0x34365D9472D7468F'.Substring(10) | Should -BeExactly '72D7468F'"
      ]
    },
    {
      "cell_type": "markdown",
      "metadata": {},
      "source": [
        "# Utility"
      ]
    },
    {
      "cell_type": "markdown",
      "metadata": {},
      "source": [
        "## Get an IP Address"
      ]
    },
    {
      "cell_type": "code",
      "execution_count": null,
      "metadata": {
        "dotnet_interactive": {
          "language": "pwsh"
        }
      },
      "outputs": [
        {
          "data": {
            "text/plain": [
              "169.254.169.254\r\n"
            ]
          },
          "output_type": "unknown"
        }
      ],
      "source": [
        "$(get-NetIPaddress | Where-Object -Property InterfaceAlias -EQ 'Local Area Connection' \n",
        "| Where-Object -Property AddressFamily -Eq 'IPv4').IPAddress -replace \"\\d+.\\d+.\\d+.\\d+\", \"169.254.169.254\""
      ]
    }
  ],
  "metadata": {
    "kernelspec": {
      "display_name": ".NET (C#)",
      "language": "C#",
      "name": ".net-csharp"
    },
    "language_info": {
      "file_extension": ".cs",
      "mimetype": "text/x-csharp",
      "name": "C#",
      "pygments_lexer": "csharp",
      "version": "8.0"
    }
  },
  "nbformat": 4,
  "nbformat_minor": 4
}
